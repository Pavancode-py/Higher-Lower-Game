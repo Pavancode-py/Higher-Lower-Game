{
  "cells": [
    {
      "cell_type": "markdown",
      "metadata": {
        "id": "view-in-github",
        "colab_type": "text"
      },
      "source": [
        "<a href=\"https://colab.research.google.com/github/Pavancode-py/Higher-Lower-Game/blob/main/Higher%20lower%20game.ipynb\" target=\"_parent\"><img src=\"https://colab.research.google.com/assets/colab-badge.svg\" alt=\"Open In Colab\"/></a>"
      ]
    },
    {
      "cell_type": "code",
      "source": [
        "# Higher Lower game\n",
        "import random\n",
        "def format_data(account):\n",
        "    account_name=account['name']\n",
        "    account_desc=account['description']\n",
        "    account_country=account['country']\n",
        "    return f\"{account_name} {account_desc},{account_country}\"\n",
        "# Generate a random account from the game data\n",
        "def check_guess(guess,a_followers,b_followers):\n",
        "    if a_followers>b_followers:\n",
        "        return guess==\"a\"\n",
        "    else:\n",
        "        return guess==\"b\"\n",
        "score=0\n",
        "# Make the game repeatable\n",
        "game_continue=True\n",
        "# Making account at position B become the next account position A.\n",
        "account_b=random.choice(data)\n",
        "while game_continue:\n",
        "    print(\"\\n\"*3)\n",
        "    print(logo)\n",
        "    account_a=account_b\n",
        "    account_b=random.choice(data)\n",
        "    if account_a==account_b:\n",
        "        account_b=random.choice(data)\n",
        "# format the account data into printable format\n",
        "    print(f\" Compare A: {format_data(account_a)}.\")\n",
        "    print(vs)\n",
        "    print(f\" Against B: {format_data(account_b)}.\")\n",
        "# Ask user for a guess\n",
        "    print(\"\\n\")\n",
        "    guess=input('Who has more followers? Type A or B:').lower()\n",
        "# Check if user is correct\n",
        "# Get follower count of each account\n",
        "    a_follower_count=account_a[\"followers\"]\n",
        "    b_follower_count=account_b[\"followers\"]\n",
        "    is_correct=check_guess(guess,a_follower_count,b_follower_count)\n",
        "# Give user feedback on their guess\n",
        "# Score keeping\n",
        "    if is_correct:\n",
        "        score+=1\n",
        "        print(\"\\n\")\n",
        "        print(f\"You're right, your current score is {score}\")\n",
        "    else:\n",
        "        print(\"\\n\")\n",
        "        print(f\"Sorry! that's wrong.your final score is {score}\")\n",
        "        game_continue=False"
      ],
      "metadata": {
        "id": "yOxkLpujQDnO"
      },
      "execution_count": null,
      "outputs": []
    }
  ],
  "metadata": {
    "colab": {
      "name": "Welcome To Colab",
      "provenance": [],
      "include_colab_link": true
    },
    "kernelspec": {
      "display_name": "Python 3",
      "name": "python3"
    }
  },
  "nbformat": 4,
  "nbformat_minor": 0
}